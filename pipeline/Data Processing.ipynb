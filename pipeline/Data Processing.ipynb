{
 "cells": [
  {
   "cell_type": "code",
   "execution_count": 1,
   "id": "bf1ade48",
   "metadata": {},
   "outputs": [],
   "source": [
    "from pathlib import Path\n",
    "import shutil\n",
    "from tqdm import tqdm\n",
    "import os"
   ]
  },
  {
   "cell_type": "code",
   "execution_count": null,
   "id": "9447b2b3",
   "metadata": {},
   "outputs": [],
   "source": [
    "for subdir, dirs, files in tqdm(os.walk(\"Dest3/0/\")):\n",
    "    print(subdir)\n",
    "    if(len(subdir.split('/')) == 3):\n",
    "        for i in range(len(files)): \n",
    "            if(i==0):\n",
    "                shutil.copyfile(subdir+\"/\"+files[0], \"FTV/\" + subdir.split('/')[2]+\".jpg\")\n",
    "            "
   ]
  },
  {
   "cell_type": "code",
   "execution_count": null,
   "id": "79a137f0",
   "metadata": {},
   "outputs": [],
   "source": [
    "with open(\"identity_CelebA.txt\") as file:\n",
    "    lines = [line.rstrip() for line in file]\n",
    "    for line in tqdm(lines):\n",
    "        img_name = line.split(\" \")[0]\n",
    "        idx = line.split(\" \")[1]\n",
    "        src = \"img_align_celeba/\"\n",
    "        dest = \"OriginalCelebA/\"\n",
    "        Path(dest  + \"/\" + idx + \"/\").mkdir(parents=True, exist_ok=True)\n",
    "        if (os.path.exists(src + \"/\"+ img_name)):\n",
    "            shutil.copyfile(src+\"/\" + img_name, dest + \"/\" + idx + \"/\" + img_name)"
   ]
  },
  {
   "cell_type": "code",
   "execution_count": 2,
   "id": "b855ac37",
   "metadata": {},
   "outputs": [
    {
     "name": "stderr",
     "output_type": "stream",
     "text": [
      "10178it [01:08, 149.52it/s]\n"
     ]
    }
   ],
   "source": [
    "rootdir = 'OriginalCelebA/'\n",
    "dest = \"ModifiedCelebA/\"\n",
    "src = \"OriginalCelebA/\"\n",
    "for subdir, dirs, files in tqdm(os.walk(rootdir)):\n",
    "    if(len(subdir.split('/')) == 2):\n",
    "        Path(dest  + \"/0/\" + subdir.split('/')[1] + \"/\").mkdir(parents=True, exist_ok=True)\n",
    "        Path(dest  + \"/1/\" + subdir.split('/')[1] + \"/\").mkdir(parents=True, exist_ok=True)\n",
    "    \n",
    "    for i in range(len(files)): \n",
    "        mode = '1'\n",
    "        if((i/len(files))<0.8):\n",
    "            mode = '0'\n",
    "        shutil.copyfile(src+\"/\" +subdir.split('/')[1]+ \"/\"+ files[i], dest  + \"/\" + mode+ \"/\" + subdir.split('/')[1] + \"/\" + files[i])\n",
    "    "
   ]
  }
 ],
 "metadata": {
  "kernelspec": {
   "display_name": "Python 3 (ipykernel)",
   "language": "python",
   "name": "python3"
  },
  "language_info": {
   "codemirror_mode": {
    "name": "ipython",
    "version": 3
   },
   "file_extension": ".py",
   "mimetype": "text/x-python",
   "name": "python",
   "nbconvert_exporter": "python",
   "pygments_lexer": "ipython3",
   "version": "3.10.4"
  }
 },
 "nbformat": 4,
 "nbformat_minor": 5
}
